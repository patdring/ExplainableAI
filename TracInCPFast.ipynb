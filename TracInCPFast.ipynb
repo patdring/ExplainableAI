{
  "nbformat": 4,
  "nbformat_minor": 0,
  "metadata": {
    "colab": {
      "provenance": [],
      "mount_file_id": "190zdjA3qWMPftvsUB88_DrAopeaV77x3",
      "authorship_tag": "ABX9TyMClZfLlRrLPhBEguCiBb/c",
      "include_colab_link": true
    },
    "kernelspec": {
      "name": "python3",
      "display_name": "Python 3"
    },
    "language_info": {
      "name": "python"
    }
  },
  "cells": [
    {
      "cell_type": "markdown",
      "metadata": {
        "id": "view-in-github",
        "colab_type": "text"
      },
      "source": [
        "<a href=\"https://colab.research.google.com/github/patdring/ExplainableAI/blob/master/TracInCPFast.ipynb\" target=\"_parent\"><img src=\"https://colab.research.google.com/assets/colab-badge.svg\" alt=\"Open In Colab\"/></a>"
      ]
    },
    {
      "cell_type": "markdown",
      "source": [
        "#TracInCPFast\n",
        "\n",
        "This Jupyter Notebook is for training a Convolutional Neural Network (CNN) on the German Traffic Sign Recognition Benchmark (GTSRB) dataset using PyTorch.\n",
        "\n",
        "The code begins with importing the required PyTorch modules for building and training the CNN. It then defines a SimpleCNN class that inherits from the nn.Module class, which is a base class for all neural network modules in PyTorch. This SimpleCNN class defines the CNN architecture using various convolutional, activation, pooling, and fully connected layers.\n",
        "\n",
        "After defining the CNN architecture, the code loads the GTSRB dataset, applies some data transformations such as resizing, normalization, and converting to tensors, and creates a data loader for training the CNN. The CNN is then initialized with the SimpleCNN class and the loss function and optimizer are defined.\n",
        "\n",
        "The code then trains the CNN for a specified number of epochs and saves checkpoints at each epoch. It prints the training loss after every 20 mini-batches.\n",
        "\n",
        "After training the CNN, the code uses the TracInCPFast package to compute the influence function for a test sample with label 2. It first loads the saved checkpoints, creates the TracInCPFast influence function, and then computes the influential training samples using the influence function. It finds the top 5 influential samples and plots them. Finally, it uses the Captum package to calculate the Integrated Gradients of the test sample with respect to its predicted label.\n",
        "\n",
        "This Jupyter notebook is based on:\n",
        "\n",
        "* https://captum.ai/tutorials/TracInCP_Tutorial\n",
        "* https://arxiv.org/pdf/1711.11279.pdf"
      ],
      "metadata": {
        "id": "tXrOST-TuyT2"
      }
    },
    {
      "cell_type": "markdown",
      "source": [
        "#### Installing Captum Library\n",
        "\n",
        "The following line installs version 0.6.0 of the Captum library.\n",
        "\n",
        "This version is used because it is compatible with the other libraries used in this notebook. "
      ],
      "metadata": {
        "id": "hHscdyezv_zW"
      }
    },
    {
      "cell_type": "code",
      "execution_count": null,
      "metadata": {
        "colab": {
          "base_uri": "https://localhost:8080/"
        },
        "id": "mkQadkwkbiWs",
        "outputId": "e5bd80ee-3206-4f59-a919-396197f532c5"
      },
      "outputs": [
        {
          "output_type": "stream",
          "name": "stdout",
          "text": [
            "Looking in indexes: https://pypi.org/simple, https://us-python.pkg.dev/colab-wheels/public/simple/\n",
            "Requirement already satisfied: matplotlib==3.6 in /usr/local/lib/python3.10/dist-packages (3.6.0)\n",
            "Requirement already satisfied: captum==0.6.0 in /usr/local/lib/python3.10/dist-packages (0.6.0)\n",
            "Requirement already satisfied: kiwisolver>=1.0.1 in /usr/local/lib/python3.10/dist-packages (from matplotlib==3.6) (1.4.4)\n",
            "Requirement already satisfied: pyparsing>=2.2.1 in /usr/local/lib/python3.10/dist-packages (from matplotlib==3.6) (3.0.9)\n",
            "Requirement already satisfied: cycler>=0.10 in /usr/local/lib/python3.10/dist-packages (from matplotlib==3.6) (0.11.0)\n",
            "Requirement already satisfied: pillow>=6.2.0 in /usr/local/lib/python3.10/dist-packages (from matplotlib==3.6) (8.4.0)\n",
            "Requirement already satisfied: numpy>=1.19 in /usr/local/lib/python3.10/dist-packages (from matplotlib==3.6) (1.22.4)\n",
            "Requirement already satisfied: packaging>=20.0 in /usr/local/lib/python3.10/dist-packages (from matplotlib==3.6) (23.1)\n",
            "Requirement already satisfied: fonttools>=4.22.0 in /usr/local/lib/python3.10/dist-packages (from matplotlib==3.6) (4.39.3)\n",
            "Requirement already satisfied: contourpy>=1.0.1 in /usr/local/lib/python3.10/dist-packages (from matplotlib==3.6) (1.0.7)\n",
            "Requirement already satisfied: python-dateutil>=2.7 in /usr/local/lib/python3.10/dist-packages (from matplotlib==3.6) (2.8.2)\n",
            "Requirement already satisfied: torch>=1.6 in /usr/local/lib/python3.10/dist-packages (from captum==0.6.0) (2.0.0+cu118)\n",
            "Requirement already satisfied: six>=1.5 in /usr/local/lib/python3.10/dist-packages (from python-dateutil>=2.7->matplotlib==3.6) (1.16.0)\n",
            "Requirement already satisfied: sympy in /usr/local/lib/python3.10/dist-packages (from torch>=1.6->captum==0.6.0) (1.11.1)\n",
            "Requirement already satisfied: typing-extensions in /usr/local/lib/python3.10/dist-packages (from torch>=1.6->captum==0.6.0) (4.5.0)\n",
            "Requirement already satisfied: jinja2 in /usr/local/lib/python3.10/dist-packages (from torch>=1.6->captum==0.6.0) (3.1.2)\n",
            "Requirement already satisfied: triton==2.0.0 in /usr/local/lib/python3.10/dist-packages (from torch>=1.6->captum==0.6.0) (2.0.0)\n",
            "Requirement already satisfied: filelock in /usr/local/lib/python3.10/dist-packages (from torch>=1.6->captum==0.6.0) (3.12.0)\n",
            "Requirement already satisfied: networkx in /usr/local/lib/python3.10/dist-packages (from torch>=1.6->captum==0.6.0) (3.1)\n",
            "Requirement already satisfied: cmake in /usr/local/lib/python3.10/dist-packages (from triton==2.0.0->torch>=1.6->captum==0.6.0) (3.25.2)\n",
            "Requirement already satisfied: lit in /usr/local/lib/python3.10/dist-packages (from triton==2.0.0->torch>=1.6->captum==0.6.0) (16.0.2)\n",
            "Requirement already satisfied: MarkupSafe>=2.0 in /usr/local/lib/python3.10/dist-packages (from jinja2->torch>=1.6->captum==0.6.0) (2.1.2)\n",
            "Requirement already satisfied: mpmath>=0.19 in /usr/local/lib/python3.10/dist-packages (from sympy->torch>=1.6->captum==0.6.0) (1.3.0)\n"
          ]
        }
      ],
      "source": [
        "!pip install matplotlib==3.6 captum==0.6.0"
      ]
    },
    {
      "cell_type": "markdown",
      "source": [
        "#### Configuring Matplotlib for Displaying Images\n",
        "\n",
        "The following line configures Matplotlib to display images without padding.\n",
        "\n",
        "This configuration is necessary because Matplotlib adds padding around images by default, which can affect the layout of the notebook. Setting the `bbox_inches` parameter to `None` removes the padding and ensures that images are displayed at their original size without any cropping or scaling."
      ],
      "metadata": {
        "id": "sdXIJeqquz3C"
      }
    },
    {
      "cell_type": "code",
      "source": [
        "%config InlineBackend.print_figure_kwargs={'bbox_inches':None}"
      ],
      "metadata": {
        "id": "uKw4K71woFYy"
      },
      "execution_count": null,
      "outputs": []
    },
    {
      "cell_type": "markdown",
      "source": [
        "# Define and Train a (simple) CNN \n",
        "\n",
        "\n",
        "This cell trains a Convolutional Neural Network (CNN) using the PyTorch framework to recognize traffic signs. It defines a CNN architecture with two convolutional layers, two max pooling layers, and two fully connected layers. It loads the training dataset and applies various transformations to it. It initializes the CNN, sets the loss function and optimizer, and trains the model for a specified number of epochs. After each epoch, it saves the model checkpoints.\n"
      ],
      "metadata": {
        "id": "a9awyNN1u0mC"
      }
    },
    {
      "cell_type": "code",
      "source": [
        "import torch\n",
        "import torch.nn as nn\n",
        "import torch.optim as optim\n",
        "import torchvision\n",
        "import torchvision.transforms as transforms\n",
        "\n",
        "# Define the CNN architecture\n",
        "class SimpleCNN(nn.Module):\n",
        "    def __init__(self):\n",
        "        super(SimpleCNN, self).__init__()\n",
        "        self.conv1 = nn.Conv2d(3, 16, 3, padding=1)\n",
        "        self.relu1 = nn.ReLU()\n",
        "        self.pool1 = nn.MaxPool2d(2, 2)\n",
        "        self.conv2 = nn.Conv2d(16, 32, 3, padding=1)\n",
        "        self.relu2 = nn.ReLU()\n",
        "        self.pool2 = nn.MaxPool2d(2, 2)\n",
        "        self.fc1 = nn.Linear(32 * 8 * 8, 64)\n",
        "        self.relu3 = nn.ReLU()\n",
        "        self.fc2 = nn.Linear(64, 43)\n",
        "\n",
        "    def forward(self, x):\n",
        "        x = self.conv1(x)\n",
        "        x = self.relu1(x)\n",
        "        x = self.pool1(x)\n",
        "        x = self.conv2(x)\n",
        "        x = self.relu2(x)\n",
        "        x = self.pool2(x)\n",
        "        x = x.view(-1, 32 * 8 * 8)\n",
        "        x = self.fc1(x)\n",
        "        x = self.relu3(x)\n",
        "        x = self.fc2(x)\n",
        "        return x\n",
        "\n",
        "# Load the dataset\n",
        "transform = transforms.Compose(\n",
        "    [transforms.Resize((32, 32)),\n",
        "     transforms.ToTensor(),\n",
        "     transforms.Normalize((0.5, 0.5, 0.5), (0.5, 0.5, 0.5))])\n",
        "\n",
        "batch_size = 64\n",
        "trainset = torchvision.datasets.GTSRB(root='./data', split='train',\n",
        "                                      download=True, transform=transform)\n",
        "trainloader = torch.utils.data.DataLoader(trainset, batch_size=batch_size,\n",
        "                                          shuffle=True, num_workers=2)\n",
        "\n",
        "# Initialize the CNN and define the loss function and optimizer\n",
        "net = SimpleCNN()\n",
        "criterion = nn.CrossEntropyLoss()\n",
        "optimizer = optim.SGD(net.parameters(), lr=0.001, momentum=0.9)\n",
        "\n",
        "# Train the model and save checkpoints\n",
        "import os\n",
        "\n",
        "# Create parent directory for checkpoints\n",
        "os.makedirs('./checkpoints', exist_ok=True)\n",
        "checkpoint_dir = './checkpoints/'\n",
        "num_epochs = 3\n",
        "for epoch in range(num_epochs):\n",
        "    running_loss = 0.0\n",
        "    for i, data in enumerate(trainloader, 0):\n",
        "        inputs, labels = data\n",
        "        optimizer.zero_grad()\n",
        "\n",
        "        outputs = net(inputs)\n",
        "        loss = criterion(outputs, labels)\n",
        "        loss.backward()\n",
        "        optimizer.step()\n",
        "\n",
        "        running_loss += loss.item()\n",
        "        if i % 20 == 19:\n",
        "            print('[%d, %5d] loss: %.3f' %\n",
        "                  (epoch + 1, i + 1, running_loss / 200))\n",
        "            running_loss = 0.0\n",
        "    checkpoint_path = checkpoint_dir + f'epoch{epoch}.pt'\n",
        "    torch.save(net.state_dict(), checkpoint_path)\n",
        "\n",
        "print('Finished Training')\n"
      ],
      "metadata": {
        "colab": {
          "base_uri": "https://localhost:8080/"
        },
        "id": "zMIFnM6MbpO7",
        "outputId": "f10fca01-5e10-4c66-eb1e-89cbf4af99e8"
      },
      "execution_count": null,
      "outputs": [
        {
          "output_type": "stream",
          "name": "stdout",
          "text": [
            "[1,    20] loss: 0.375\n",
            "[1,    40] loss: 0.374\n",
            "[1,    60] loss: 0.373\n",
            "[1,    80] loss: 0.372\n",
            "[1,   100] loss: 0.371\n",
            "[1,   120] loss: 0.368\n",
            "[1,   140] loss: 0.365\n",
            "[1,   160] loss: 0.363\n",
            "[1,   180] loss: 0.355\n",
            "[1,   200] loss: 0.356\n",
            "[1,   220] loss: 0.354\n",
            "[1,   240] loss: 0.352\n",
            "[1,   260] loss: 0.350\n",
            "[1,   280] loss: 0.350\n",
            "[1,   300] loss: 0.352\n",
            "[1,   320] loss: 0.348\n",
            "[1,   340] loss: 0.349\n",
            "[1,   360] loss: 0.347\n",
            "[1,   380] loss: 0.349\n",
            "[1,   400] loss: 0.350\n",
            "[2,    20] loss: 0.346\n",
            "[2,    40] loss: 0.345\n",
            "[2,    60] loss: 0.344\n",
            "[2,    80] loss: 0.343\n",
            "[2,   100] loss: 0.344\n",
            "[2,   120] loss: 0.339\n",
            "[2,   140] loss: 0.339\n",
            "[2,   160] loss: 0.337\n",
            "[2,   180] loss: 0.342\n",
            "[2,   200] loss: 0.336\n",
            "[2,   220] loss: 0.334\n",
            "[2,   240] loss: 0.336\n",
            "[2,   260] loss: 0.336\n",
            "[2,   280] loss: 0.331\n",
            "[2,   300] loss: 0.330\n",
            "[2,   320] loss: 0.330\n",
            "[2,   340] loss: 0.331\n",
            "[2,   360] loss: 0.326\n",
            "[2,   380] loss: 0.330\n",
            "[2,   400] loss: 0.321\n",
            "[3,    20] loss: 0.320\n",
            "[3,    40] loss: 0.320\n",
            "[3,    60] loss: 0.314\n",
            "[3,    80] loss: 0.310\n",
            "[3,   100] loss: 0.304\n",
            "[3,   120] loss: 0.309\n",
            "[3,   140] loss: 0.308\n",
            "[3,   160] loss: 0.301\n",
            "[3,   180] loss: 0.297\n",
            "[3,   200] loss: 0.292\n",
            "[3,   220] loss: 0.289\n",
            "[3,   240] loss: 0.285\n",
            "[3,   260] loss: 0.283\n",
            "[3,   280] loss: 0.277\n",
            "[3,   300] loss: 0.270\n",
            "[3,   320] loss: 0.271\n",
            "[3,   340] loss: 0.266\n",
            "[3,   360] loss: 0.265\n",
            "[3,   380] loss: 0.259\n",
            "[3,   400] loss: 0.251\n",
            "Finished Training\n"
          ]
        }
      ]
    },
    {
      "cell_type": "markdown",
      "source": [
        "#### TracInCPFast influence function\n",
        "\n",
        "This code uses the TracInCPFast module from the Captum library to compute the influence of training examples on a test sample for a Convolutional Neural Network trained on the GTSRB dataset.\n",
        "\n",
        "First, it loads the test set and defines the CrossEntropyLoss as the loss function. Then, it loads the saved checkpoint(s) of the trained model and creates an instance of TracInCPFast with the last fully connected layer of the network, the training set, the saved checkpoint(s), and the loss function.\n",
        "\n",
        "Next, it chooses a random test sample with a specified label (in this case, label 2) from the test set and normalizes its pixel values. It then displays the normalized image using matplotlib.\n",
        "\n",
        "The influence function can be used to identify the training examples that are most responsible for the prediction of the chosen test sample, which can be useful for debugging and improving the model."
      ],
      "metadata": {
        "id": "PDKuo7J7u2xK"
      }
    },
    {
      "cell_type": "code",
      "source": [
        "import numpy as np\n",
        "import matplotlib.pyplot as plt\n",
        "import torch\n",
        "import torchvision\n",
        "from captum.attr import IntegratedGradients\n",
        "from captum.influence import TracInCPFast\n",
        "from torchvision.datasets import GTSRB\n",
        "\n",
        "testset = torchvision.datasets.GTSRB(\n",
        "    root='./data', split='test', download=True, transform=transform)\n",
        "\n",
        "# Define the loss function\n",
        "criterion = torch.nn.CrossEntropyLoss()\n",
        "\n",
        "# Compute the influence function using TracInCPFast\n",
        "final_fc_layer = net.fc2\n",
        "checkpoints = ['./checkpoints/epoch2.pt'] # specify the path to the saved checkpoint(s)\n",
        "# Create the TracInCPFast influence function\n",
        "influence = TracInCPFast(net, final_fc_layer, trainset, checkpoints, loss_fn=criterion)\n",
        "\n",
        "# Choose a test sample with the label \n",
        "testloader = torch.utils.data.DataLoader(testset, batch_size=1, shuffle=True, num_workers=2)\n",
        "for inputs, labels in testloader:\n",
        "    #print(labels[0])\n",
        "    if labels[0] == 2:\n",
        "        break\n",
        "\n",
        "input_ = inputs[0].permute(1, 2, 0)\n",
        "input_ = input_.numpy()\n",
        "input_ = (input_ - input_.min()) / (input_.max() - input_.min())  # Normalize data range\n",
        "\n",
        "plt.imshow(input_, cmap='gray', vmin=0, vmax=1)\n",
        "plt.title(f'Test input Label: {labels[0]}')\n",
        "plt.axis('off')\n",
        "plt.show()"
      ],
      "metadata": {
        "id": "6DYWqpGPKbDY",
        "colab": {
          "base_uri": "https://localhost:8080/",
          "height": 497
        },
        "outputId": "a957f768-c5e7-4c95-f803-0c18818cf4cb"
      },
      "execution_count": null,
      "outputs": [
        {
          "output_type": "display_data",
          "data": {
            "text/plain": [
              "<Figure size 640x480 with 1 Axes>"
            ],
            "image/png": "[encoded data removed]"
          },
          "metadata": {}
        }
      ]
    },
    {
      "cell_type": "markdown",
      "source": [
        "#### Visualization Top 5 influential training samples\n",
        "Visualizing influential training samples can be helpful in understanding how the model is making predictions. The code you provided computes the influence of a test sample on the model's prediction and then finds the top 5 influential training samples. It then plots these top 5 influential samples."
      ],
      "metadata": {
        "id": "Nl19tBvAx10B"
      }
    },
    {
      "cell_type": "code",
      "source": [
        "proponents_indices, proponents_influence_scores = influence.influence(\n",
        "    (inputs, labels), k=5, proponents=True) \n",
        "\n",
        "# Find the top 5 influential samples\n",
        "top_influential_indices = np.argsort(-proponents_influence_scores[0])[:5]\n",
        "\n",
        "# Plot the top 5 influential training samples\n",
        "fig, axs = plt.subplots(1, 5, figsize=(15, 4))\n",
        "for i, idx in enumerate(top_influential_indices):\n",
        "    input_, label_ = trainset[proponents_indices[0][idx]]\n",
        "    input_ = input_.permute(1, 2, 0)\n",
        "    input_ = input_.numpy()\n",
        "    # Normalize data range\n",
        "    input_ = (input_ - input_.min()) / (input_.max() - input_.min())\n",
        "    # Use grayscale colormap and normalize data range  \n",
        "    axs[i].imshow(input_, cmap='gray', vmin=0, vmax=1) \n",
        "    axs[i].set_title(f'Index: {proponents_indices[0][idx]}, Score: {proponents_influence_scores[0][idx]:.2f}')\n",
        "    axs[i].axis('off')\n",
        "plt.show()\n"
      ],
      "metadata": {
        "colab": {
          "base_uri": "https://localhost:8080/",
          "height": 417
        },
        "id": "HpUu4tkbf3fx",
        "outputId": "8cc063f7-980e-4120-d5ab-77c45584b7ca"
      },
      "execution_count": null,
      "outputs": [
        {
          "output_type": "display_data",
          "data": {
            "text/plain": [
              "<Figure size 1500x400 with 5 Axes>"
            ],
            "image/png": "[encoded data removed]"
          },
          "metadata": {}
        }
      ]
    }
  ]
}